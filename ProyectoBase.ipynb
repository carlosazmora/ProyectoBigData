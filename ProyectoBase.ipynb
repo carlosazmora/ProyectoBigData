{
 "cells": [
  {
   "cell_type": "markdown",
   "id": "e775ccf7",
   "metadata": {},
   "source": [
    "# Proyecto Final - Coterminal\n",
    "- Carlos Andrés Zuluaga Mora\n",
    "- Ricardo Andrés Cortés Coronell\n",
    "- Andrés Felipe Sánchez Rincón"
   ]
  },
  {
   "cell_type": "markdown",
   "id": "d892747b",
   "metadata": {},
   "source": [
    "## Requisitos de ejecución\n",
    "\n",
    "- Cree un entorno Python (Versión 3.11 como mínimo) en su máquina mediante el comando `conda create -n {nombre del entorno}`.\n",
    "- Instale todas las librerías faltantes con el comando `conda install {nombre de la librería}`. De presentarse el caso en el que dicho comando no funcione adecuadamente, recurra a opciones como `conda-forge` o `pip` para continuar con el proceso de instalación"
   ]
  },
  {
   "cell_type": "code",
   "execution_count": 4,
   "id": "928927c2",
   "metadata": {},
   "outputs": [],
   "source": [
    "import pandas as pd\n",
    "import numpy as np\n",
    "import matplotlib.pyplot as plt\n",
    "import seaborn as sns\n",
    "import subprocess\n",
    "import logging\n",
    "import psycopg2\n"
   ]
  },
  {
   "cell_type": "code",
   "execution_count": 5,
   "id": "b3ec3d2c",
   "metadata": {},
   "outputs": [
    {
     "name": "stdout",
     "output_type": "stream",
     "text": [
      "STDOUT: \n",
      "STDERR: time=\"2025-09-01T18:04:52-05:00\" level=warning msg=\"c:\\\\Users\\\\User\\\\OneDrive - Universidad de la Sabana\\\\Desktop\\\\Universidad\\\\2025-2\\\\Herramientas de Big Data (Énfasis)\\\\ProyectoBigData\\\\docker-compose.yml: the attribute `version` is obsolete, it will be ignored, please remove it to avoid potential confusion\"\n",
      " Network proyectobigdata_default  Creating\n",
      " Network proyectobigdata_default  Created\n",
      " Container proyectobigdata-postgres-1  Creating\n",
      " Container proyectobigdata-postgres-1  Created\n",
      " Container proyectobigdata-postgres-1  Starting\n",
      " Container proyectobigdata-postgres-1  Started\n",
      "\n",
      "Código de salida: 0\n"
     ]
    }
   ],
   "source": [
    "# Ejecutar un comando de docker compose\n",
    "result = subprocess.run(\n",
    "    [\"docker\", \"compose\", \"up\", \"-d\"],\n",
    "    capture_output=True,\n",
    "    text=True\n",
    ")\n",
    "\n",
    "# Ver salida\n",
    "print(\"STDOUT:\", result.stdout)\n",
    "print(\"STDERR:\", result.stderr)\n",
    "print(\"Código de salida:\", result.returncode)"
   ]
  },
  {
   "cell_type": "markdown",
   "id": "7884e669",
   "metadata": {},
   "source": [
    "### Preparación y limpieza de datos"
   ]
  },
  {
   "cell_type": "code",
   "execution_count": 6,
   "id": "567d188b",
   "metadata": {},
   "outputs": [
    {
     "name": "stdout",
     "output_type": "stream",
     "text": [
      "<class 'pandas.core.frame.DataFrame'>\n",
      "Index: 55458 entries, 0 to 509042\n",
      "Data columns (total 4 columns):\n",
      " #   Column                    Non-Null Count  Dtype         \n",
      "---  ------                    --------------  -----         \n",
      " 0   País                      55458 non-null  object        \n",
      " 1   Fecha                     55458 non-null  datetime64[ns]\n",
      " 2   Exceso_Muertes            55458 non-null  float64       \n",
      " 3   Muertes_Confirmadas_100k  55458 non-null  float64       \n",
      "dtypes: datetime64[ns](1), float64(2), object(1)\n",
      "memory usage: 2.1+ MB\n"
     ]
    },
    {
     "name": "stderr",
     "output_type": "stream",
     "text": [
      "C:\\Users\\User\\AppData\\Local\\Temp\\ipykernel_20724\\4277307290.py:22: FutureWarning: A value is trying to be set on a copy of a DataFrame or Series through chained assignment using an inplace method.\n",
      "The behavior will change in pandas 3.0. This inplace method will never work because the intermediate object on which we are setting values always behaves as a copy.\n",
      "\n",
      "For example, when doing 'df[col].method(value, inplace=True)', try using 'df.method({col: value}, inplace=True)' or df[col] = df[col].method(value) instead, to perform the operation inplace on the original object.\n",
      "\n",
      "\n",
      "  df_covid19['Muertes_Confirmadas_100k'].fillna(0, inplace=True)\n"
     ]
    },
    {
     "data": {
      "text/html": [
       "<div>\n",
       "<style scoped>\n",
       "    .dataframe tbody tr th:only-of-type {\n",
       "        vertical-align: middle;\n",
       "    }\n",
       "\n",
       "    .dataframe tbody tr th {\n",
       "        vertical-align: top;\n",
       "    }\n",
       "\n",
       "    .dataframe thead th {\n",
       "        text-align: right;\n",
       "    }\n",
       "</style>\n",
       "<table border=\"1\" class=\"dataframe\">\n",
       "  <thead>\n",
       "    <tr style=\"text-align: right;\">\n",
       "      <th></th>\n",
       "      <th>País</th>\n",
       "      <th>Fecha</th>\n",
       "      <th>Exceso_Muertes</th>\n",
       "      <th>Muertes_Confirmadas_100k</th>\n",
       "    </tr>\n",
       "  </thead>\n",
       "  <tbody>\n",
       "    <tr>\n",
       "      <th>0</th>\n",
       "      <td>Afghanistan</td>\n",
       "      <td>2020-01-01</td>\n",
       "      <td>-0.022148</td>\n",
       "      <td>0.0</td>\n",
       "    </tr>\n",
       "    <tr>\n",
       "      <th>1</th>\n",
       "      <td>Afghanistan</td>\n",
       "      <td>2020-01-06</td>\n",
       "      <td>-0.044295</td>\n",
       "      <td>0.0</td>\n",
       "    </tr>\n",
       "    <tr>\n",
       "      <th>2</th>\n",
       "      <td>Afghanistan</td>\n",
       "      <td>2020-01-13</td>\n",
       "      <td>-0.047579</td>\n",
       "      <td>0.0</td>\n",
       "    </tr>\n",
       "    <tr>\n",
       "      <th>3</th>\n",
       "      <td>Afghanistan</td>\n",
       "      <td>2020-01-20</td>\n",
       "      <td>0.022123</td>\n",
       "      <td>0.0</td>\n",
       "    </tr>\n",
       "    <tr>\n",
       "      <th>4</th>\n",
       "      <td>Afghanistan</td>\n",
       "      <td>2020-01-27</td>\n",
       "      <td>0.063374</td>\n",
       "      <td>0.0</td>\n",
       "    </tr>\n",
       "  </tbody>\n",
       "</table>\n",
       "</div>"
      ],
      "text/plain": [
       "          País      Fecha  Exceso_Muertes  Muertes_Confirmadas_100k\n",
       "0  Afghanistan 2020-01-01       -0.022148                       0.0\n",
       "1  Afghanistan 2020-01-06       -0.044295                       0.0\n",
       "2  Afghanistan 2020-01-13       -0.047579                       0.0\n",
       "3  Afghanistan 2020-01-20        0.022123                       0.0\n",
       "4  Afghanistan 2020-01-27        0.063374                       0.0"
      ]
     },
     "execution_count": 6,
     "metadata": {},
     "output_type": "execute_result"
    }
   ],
   "source": [
    "# Extraer información de archivo .csv\n",
    "df_covid19 = pd.read_csv(\"estimated-cumulative-excess-deaths-per-100000-people-during-covid-19.csv\")\n",
    "\n",
    "# Limpieza de datos\n",
    "\n",
    "# Eliminación de columnas no empleadas \n",
    "df_covid19.drop(columns=['Cumulative excess deaths per 100,000 people (95% CI, lower bound)', \n",
    "        'Cumulative excess deaths per 100,000 people (95% CI, upper bound)'], inplace=True)\n",
    "\n",
    "# Cambio de nombres de columnas\n",
    "df_covid19.rename(columns={\n",
    "    'Entity': 'País',\n",
    "    'Day': 'Fecha',\n",
    "    'Cumulative excess deaths per 100,000 people (central estimate)': 'Exceso_Muertes',\n",
    "    'Total confirmed deaths due to COVID-19 per 100,000 people': 'Muertes_Confirmadas_100k'\n",
    "}, inplace=True)\n",
    "\n",
    "# Convertir la columna 'Fecha' a datetime\n",
    "df_covid19['Fecha'] = pd.to_datetime(df_covid19['Fecha'])\n",
    "\n",
    "# La columna de muertes confirmadas tiene nulos al inicio. Asumimos que son 0.\n",
    "df_covid19['Muertes_Confirmadas_100k'].fillna(0, inplace=True)\n",
    "\n",
    "# Para el análisis, las filas sin una estimación central de exceso de muertes no son útiles.\n",
    "df_covid19.dropna(subset=['País', 'Fecha', 'Exceso_Muertes'], inplace=True)\n",
    "\n",
    "\n",
    "df_covid19.info()\n",
    "df_covid19.head()"
   ]
  },
  {
   "cell_type": "markdown",
   "id": "89af7c83",
   "metadata": {},
   "source": [
    "### Creación de DB y cargue de información"
   ]
  },
  {
   "cell_type": "code",
   "execution_count": 9,
   "id": "5719f1b2",
   "metadata": {},
   "outputs": [
    {
     "name": "stdout",
     "output_type": "stream",
     "text": [
      "Error al insertar datos: CREATE DATABASE cannot run inside a transaction block\n",
      "\n"
     ]
    },
    {
     "ename": "ActiveSqlTransaction",
     "evalue": "CREATE DATABASE cannot run inside a transaction block\n",
     "output_type": "error",
     "traceback": [
      "\u001b[31m---------------------------------------------------------------------------\u001b[39m",
      "\u001b[31mActiveSqlTransaction\u001b[39m                      Traceback (most recent call last)",
      "\u001b[36mCell\u001b[39m\u001b[36m \u001b[39m\u001b[32mIn[9]\u001b[39m\u001b[32m, line 18\u001b[39m\n\u001b[32m     16\u001b[39m         default_cursor.execute(\u001b[33mf\u001b[39m\u001b[33m\"\u001b[39m\u001b[33mSELECT 1 FROM pg_database WHERE datname = \u001b[39m\u001b[33m'\u001b[39m\u001b[38;5;132;01m{\u001b[39;00mdb_params[\u001b[33m'\u001b[39m\u001b[33mdbname\u001b[39m\u001b[33m'\u001b[39m]\u001b[38;5;132;01m}\u001b[39;00m\u001b[33m'\u001b[39m\u001b[33m;\u001b[39m\u001b[33m\"\u001b[39m)\n\u001b[32m     17\u001b[39m         \u001b[38;5;28;01mif\u001b[39;00m \u001b[38;5;129;01mnot\u001b[39;00m default_cursor.fetchone():\n\u001b[32m---> \u001b[39m\u001b[32m18\u001b[39m             \u001b[43mdefault_cursor\u001b[49m\u001b[43m.\u001b[49m\u001b[43mexecute\u001b[49m\u001b[43m(\u001b[49m\u001b[33;43mf\u001b[39;49m\u001b[33;43m\"\u001b[39;49m\u001b[33;43mCREATE DATABASE \u001b[39;49m\u001b[38;5;130;43;01m\\\"\u001b[39;49;00m\u001b[38;5;132;43;01m{\u001b[39;49;00m\u001b[43mdb_params\u001b[49m\u001b[43m[\u001b[49m\u001b[33;43m'\u001b[39;49m\u001b[33;43mdbname\u001b[39;49m\u001b[33;43m'\u001b[39;49m\u001b[43m]\u001b[49m\u001b[38;5;132;43;01m}\u001b[39;49;00m\u001b[38;5;130;43;01m\\\"\u001b[39;49;00m\u001b[33;43m;\u001b[39;49m\u001b[33;43m\"\u001b[39;49m\u001b[43m)\u001b[49m\n\u001b[32m     19\u001b[39m             \u001b[38;5;28mprint\u001b[39m(\u001b[33mf\u001b[39m\u001b[33m\"\u001b[39m\u001b[33mBase de datos \u001b[39m\u001b[33m'\u001b[39m\u001b[38;5;132;01m{\u001b[39;00mdb_params[\u001b[33m'\u001b[39m\u001b[33mdbname\u001b[39m\u001b[33m'\u001b[39m]\u001b[38;5;132;01m}\u001b[39;00m\u001b[33m'\u001b[39m\u001b[33m creada exitosamente.\u001b[39m\u001b[33m\"\u001b[39m)\n\u001b[32m     21\u001b[39m \u001b[38;5;66;03m# Connect to the target database\u001b[39;00m\n",
      "\u001b[31mActiveSqlTransaction\u001b[39m: CREATE DATABASE cannot run inside a transaction block\n"
     ]
    }
   ],
   "source": [
    "db_params = {\n",
    "            'dbname': 'covid19-project',\n",
    "            'user': 'psqluser',\n",
    "            'password': 'psqlpass',\n",
    "            'host': 'localhost',\n",
    "            'port': '5433'\n",
    "        }\n",
    "\n",
    "try:\n",
    "    # Connect to the default 'postgres' database to create the target database if it doesn't exist\n",
    "    default_params = db_params.copy()\n",
    "    default_params['dbname'] = 'postgres'\n",
    "    with psycopg2.connect(**default_params) as default_conn:\n",
    "        default_conn.autocommit = True\n",
    "        with default_conn.cursor() as default_cursor:\n",
    "            default_cursor.execute(f\"SELECT 1 FROM pg_database WHERE datname = '{db_params['dbname']}';\")\n",
    "            if not default_cursor.fetchone():\n",
    "                default_cursor.execute(f\"CREATE DATABASE \\\"{db_params['dbname']}\\\";\")\n",
    "                print(f\"Base de datos '{db_params['dbname']}' creada exitosamente.\")\n",
    "\n",
    "    # Connect to the target database\n",
    "    conn = psycopg2.connect(**db_params)\n",
    "    cursor = conn.cursor()\n",
    "\n",
    "    # Create table if neccessary\n",
    "    cursor.execute(\"DROP TABLE IF EXISTS muertes_covid19;\")\n",
    "    cursor.execute(\"\"\"\n",
    "        CREATE TABLE IF NOT EXISTS muertes_covid19 (\n",
    "            id SERIAL PRIMARY KEY,\n",
    "            pais VARCHAR(100),\n",
    "            fecha DATE,\n",
    "            exceso_muertes INT,\n",
    "            muertes_confirmadas INT\n",
    "        )\n",
    "    \"\"\")\n",
    "    print(\"Tabla creada exitosamente\")\n",
    "    conn.commit()\n",
    "\n",
    "    data = list(df_covid19[['País', 'Fecha', 'Exceso_Muertes', 'Muertes_Confirmadas_100k']].itertuples(index=False, name=None))\n",
    "\n",
    "    cursor.executemany(\"\"\"\n",
    "        INSERT INTO muertes_covid19 (pais, fecha, exceso_muertes, muertes_confirmadas)\n",
    "        VALUES (%s, %s, %s, %s)\n",
    "    \"\"\", data)\n",
    "    conn.commit()\n",
    "    \n",
    "    conn.commit()\n",
    "    cursor.close()\n",
    "    conn.close()\n",
    "    print(f\"{len(data)} filas insertadas exitosamente en la tabla\")\n",
    "\n",
    "except Exception as e:\n",
    "    print(f\"Error al insertar datos: {e}\")\n",
    "    raise\n",
    "\n",
    "finally:\n",
    "        # Close database connection if it was opened\n",
    "        if 'conn' in locals():\n",
    "            conn.close()"
   ]
  }
 ],
 "metadata": {
  "kernelspec": {
   "display_name": "bigdataproject",
   "language": "python",
   "name": "python3"
  },
  "language_info": {
   "codemirror_mode": {
    "name": "ipython",
    "version": 3
   },
   "file_extension": ".py",
   "mimetype": "text/x-python",
   "name": "python",
   "nbconvert_exporter": "python",
   "pygments_lexer": "ipython3",
   "version": "3.13.5"
  }
 },
 "nbformat": 4,
 "nbformat_minor": 5
}
